{
 "cells": [
  {
   "cell_type": "code",
   "execution_count": 61,
   "metadata": {},
   "outputs": [],
   "source": [
    "### TO RUN\n",
    "import os\n",
    "\n",
    "import matplotlib.pyplot as plt\n",
    "import numpy as np\n",
    "import pickle\n",
    "\n",
    "\"Machine learning tools\"\n",
    "\n",
    "from classification.datasets import Dataset\n",
    "from classification.utils.audio_student import AudioUtil, Feature_vector_DS"
   ]
  },
  {
   "cell_type": "markdown",
   "metadata": {},
   "source": [
    "Useful functions to select, read and play the dataset sounds are provided in the ``classification`` directory. <br>\n",
    "\n",
    "As for the H1, you will have to fill some short pieces of code, as well as answer some questions. We already created cells for you to answer the questions to ensure you don't forget it ;). <br>\n",
    "You will find the zones to be briefly filled  with a ``### TO COMPLETE`` in the cells below.\n",
    "\n",
    "<font size=6 color=#009999> 3. Probability vector and memory  [~30min-1h] </font> <br>"
   ]
  },
  {
   "cell_type": "code",
   "execution_count": 62,
   "metadata": {},
   "outputs": [
    {
     "name": "stdout",
     "output_type": "stream",
     "text": [
      "birds\n",
      "chainsaw\n",
      "fire\n",
      "handsaw\n",
      "helicopter\n"
     ]
    }
   ],
   "source": [
    "### TO RUN\n",
    "dataset = Dataset()\n",
    "classnames = dataset.list_classes()\n",
    "\n",
    "print(\"\\n\".join(classnames))"
   ]
  },
  {
   "cell_type": "code",
   "execution_count": 63,
   "metadata": {},
   "outputs": [],
   "source": [
    "### TO RUN\n",
    "fm_dir = \"data/feature_matrices/\"  # where to save the features matrices\n",
    "model_dir = \"data/models/\"  # where to save the models\n",
    "os.makedirs(fm_dir, exist_ok=True)\n",
    "os.makedirs(model_dir, exist_ok=True)"
   ]
  },
  {
   "cell_type": "markdown",
   "metadata": {},
   "source": [
    "<font size=5 color=#009999> 3.1. Probability vector </font> <br>\n",
    "\n",
    "A clear drawback of the models considered in ``hands_on_classif2_audio_student.ipynb`` is that they only output the most probable class, but do not provide any confidence estimate of this prediction. It is generally better to output a vector of probabilities for all the classes at each prediction, hence allowing the models to hesitate between different classes. \n",
    "Remember a vector of probability can be defined as \n",
    "\n",
    "\\begin{equation*}\n",
    "    \\mathbb P \\{ i \\} \\in [0,1], ~~\\sum_i \\mathbb P \\{ i \\} = 1. \n",
    "\\end{equation*}\n",
    "\n",
    "There are many ways to do so:\n",
    "\n",
    "- **Adapt the models**, e.g. for the ``KNN`` classifier, give the probability of class ``i`` as the ratio between the number of neighbours with label ``i`` and the total number of considered neighbours ``K``.\n",
    "- **Use other models**: a ``CNN`` classifier is suited for outputting probability values for each class.\n",
    "- **Compare with old predictions**: the probability of class ``i`` may simply be given as the ratio of its appearances in the (arbitrarily chosen) ``N`` last predictions.\n",
    "\n",
    "The last bullet implies the use of old predictions to compute a probability estimate. This leads to the notion of memory in the predictions, that we discuss in the second part of this notebook."
   ]
  },
  {
   "cell_type": "markdown",
   "metadata": {},
   "source": [
    "Let us start by creating a dataset ``myds`` and taking the model trained in ````hands_on_classif2_audio.ipynb````.\n",
    "\n",
    "Don't forget to normalize your feature vectors as well as reduce their dimensionality if you trained your model with such data."
   ]
  },
  {
   "cell_type": "code",
   "execution_count": 71,
   "metadata": {},
   "outputs": [],
   "source": [
    "### TO COMPLETE - Uncomment the following line\n",
    "model_dir = \"data/models/\"\n",
    "filename = \"model.pickle\"\n",
    "model = pickle.load(open(model_dir + filename, \"rb\"))\n",
    "normalize = True\n",
    "pca = None\n",
    "\n",
    "\n",
    "\"Creation of the dataset\"\n",
    "myds = Feature_vector_DS(\n",
    "    dataset, Nft=512, nmel=20, duration=950, shift_pct=0.0, normalize=normalize, pca=pca\n",
    ")"
   ]
  },
  {
   "cell_type": "markdown",
   "metadata": {},
   "source": [
    "Open-Source code makes life easy! The ``KNeighborsClassifier`` from Sklearn already contains a ``predict_proba`` method. Start getting some intuition on this probability vector by playing with the chosen feature vector. <br>\n",
    "\n",
    "Run the following code many times by changing  ``cls_index``. <br>"
   ]
  },
  {
   "cell_type": "code",
   "execution_count": 73,
   "metadata": {},
   "outputs": [
    {
     "data": {
      "image/png": "[encoded data removed]",
      "text/plain": [
       "<Figure size 400x300 with 2 Axes>"
      ]
     },
     "metadata": {},
     "output_type": "display_data"
    },
    {
     "name": "stdout",
     "output_type": "stream",
     "text": [
      "[[0.16474056 0.1986256  0.12013292 0.10591826 0.13835087 0.14068666\n",
      "  0.20361606 0.20486152 0.16517013 0.19955793 0.17331901 0.11341574\n",
      "  0.11454005 0.15093399 0.18568482 0.16526167 0.21368418 0.1689254\n",
      "  0.09948827 0.15530372 0.0947084  0.10765539 0.11602702 0.13416334\n",
      "  0.11650178 0.08223431 0.10766218 0.18542396 0.13974565 0.09603778\n",
      "  0.11597893 0.13604199 0.09405106 0.14447247 0.16336416 0.11783919\n",
      "  0.09138204 0.08361729 0.06848456 0.102428   0.05606901 0.04883298\n",
      "  0.05209922 0.03728123 0.03639981 0.04915722 0.05809644 0.04680533\n",
      "  0.03508515 0.02896982 0.03801877 0.0445527  0.04140099 0.05193719\n",
      "  0.05489398 0.05014203 0.05395437 0.04894894 0.04852751 0.03789702\n",
      "  0.05487412 0.06854141 0.06526828 0.03792014 0.02578252 0.04540127\n",
      "  0.04701549 0.04163515 0.03101771 0.02669812 0.04399401 0.05848302\n",
      "  0.03830718 0.0332595  0.03040644 0.04952854 0.05629296 0.05173264\n",
      "  0.04930327 0.02260478 0.02072619 0.0487212  0.05526742 0.03068692\n",
      "  0.02890758 0.03511971 0.04916034 0.05608667 0.03893013 0.03592508\n",
      "  0.04744428 0.04318343 0.03127245 0.03698982 0.03376376 0.0240574\n",
      "  0.05183171 0.04478617 0.023647   0.01911976 0.0135791  0.02703391\n",
      "  0.0247669  0.02113552 0.02337143 0.03459207 0.02972465 0.0324036\n",
      "  0.02386316 0.01841268 0.01221106 0.01765017 0.03018612 0.03863501\n",
      "  0.02246122 0.01492787 0.02405622 0.03089791 0.02831888 0.01663171\n",
      "  0.01327998 0.01188672 0.01213336 0.00980233 0.01177906 0.01395681\n",
      "  0.0151181  0.02313935 0.020467   0.0155537  0.01116403 0.00670335\n",
      "  0.00946786 0.01352508 0.01632729 0.01904274 0.020884   0.01466299\n",
      "  0.01498928 0.01694116 0.01810581 0.01548747 0.02695042 0.02503385\n",
      "  0.01601187 0.01506392 0.0167118  0.02281243 0.02596255 0.02183763\n",
      "  0.01724099 0.01851336 0.02562193 0.02466598 0.0295513  0.02698699\n",
      "  0.02347329 0.02318621 0.02005576 0.02777691 0.02358449 0.02781669\n",
      "  0.0196525  0.01582783 0.01333993 0.01142335 0.01581338 0.02175522\n",
      "  0.01941568 0.0133232  0.01594682 0.01843996 0.01462731 0.01393773\n",
      "  0.01563725 0.01182709 0.01056179 0.00907352 0.0100727  0.01307859\n",
      "  0.00721613 0.0093886  0.00906985 0.00749768 0.00765719 0.0082162\n",
      "  0.01090836 0.00980815 0.00866446 0.00851691 0.00730031 0.00772779\n",
      "  0.0078847  0.00980563 0.01001819 0.01337514 0.01170573 0.00975636\n",
      "  0.01170268 0.01203479 0.00787739 0.00917426 0.00946728 0.01015096\n",
      "  0.00995685 0.00915884 0.00822389 0.00885992 0.00844101 0.01113569\n",
      "  0.01327864 0.01047684 0.00895012 0.01068911 0.01547348 0.01592831\n",
      "  0.01906854 0.01732473 0.01008705 0.00948342 0.00903478 0.0103776\n",
      "  0.01298029 0.01531385 0.01285554 0.01300224 0.01626091 0.01259313\n",
      "  0.00793713 0.00977086 0.01109948 0.00814729 0.00860042 0.01111992\n",
      "  0.01659933 0.01648169 0.01752049 0.01507955 0.00738794 0.0078813\n",
      "  0.00857941 0.01086907 0.01174778 0.01175001 0.01130945 0.01076911\n",
      "  0.01110837 0.01075973 0.01016622 0.010118   0.01137757 0.00742094\n",
      "  0.00884372 0.01028992 0.01412553 0.01609376 0.01534927 0.01431973\n",
      "  0.01165157 0.00974643 0.0088751  0.01185631 0.01685007 0.01982932\n",
      "  0.01752175 0.01417819 0.01570668 0.01696688 0.01692418 0.01586479\n",
      "  0.01692675 0.01117404 0.01103777 0.01060101 0.01399437 0.01675856\n",
      "  0.01961838 0.01966438 0.01521305 0.01359219 0.00620375 0.0113243\n",
      "  0.01427953 0.01775167 0.01348444 0.01130732 0.01113062 0.01397229\n",
      "  0.01498053 0.01450605 0.01326867 0.01231069 0.01238797 0.01443003\n",
      "  0.01646672 0.01637839 0.01304411 0.01500474 0.01268775 0.01054571\n",
      "  0.00626684 0.00913459 0.00802762 0.01082151 0.01062572 0.01032952\n",
      "  0.00990285 0.01092285 0.0111715  0.00985657 0.0074906  0.00621385\n",
      "  0.00870348 0.01130645 0.01230498 0.01312869 0.01047972 0.01045181\n",
      "  0.01091869 0.01016703 0.00911287 0.01001323 0.00938412 0.01204362\n",
      "  0.01008712 0.00909044 0.00751216 0.00805803 0.00787389 0.0103377\n",
      "  0.01020445 0.00680899 0.00852859 0.00913022 0.01159421 0.01134178\n",
      "  0.01059024 0.01054163 0.01061291 0.01147773 0.00518948 0.00816333\n",
      "  0.01325293 0.01157151 0.00982878 0.01086191 0.0085469  0.00921319\n",
      "  0.012047   0.01188589 0.01212418 0.01010206 0.01329226 0.01259129\n",
      "  0.01129347 0.01397687 0.01089203 0.00819624 0.0111397  0.01376606\n",
      "  0.00836368 0.016323   0.01754809 0.01606143 0.01714266 0.01731054\n",
      "  0.01640874 0.01511009 0.01762766 0.01318602 0.01379286 0.01673155\n",
      "  0.01811231 0.01599325 0.01372802 0.0129108  0.0151819  0.01709738\n",
      "  0.01751798 0.0196427  0.01225422 0.01726297 0.01687577 0.01909248\n",
      "  0.02102457 0.02304056 0.0285501  0.02340046 0.02148477 0.01801493\n",
      "  0.01807175 0.02058309 0.01833505 0.01724612 0.01892694 0.01721343\n",
      "  0.0288024  0.03869712 0.03082118 0.02559591]\n",
      " [0.         0.         0.         0.         0.         0.\n",
      "  0.         0.         0.         0.         0.         0.\n",
      "  0.         0.         0.         0.         0.         0.\n",
      "  0.         0.         0.         0.         0.         0.\n",
      "  0.         0.         0.         0.         0.         0.\n",
      "  0.         0.         0.         0.         0.         0.\n",
      "  0.         0.         0.         0.         0.         0.\n",
      "  0.         0.         0.         0.         0.         0.\n",
      "  0.         0.         0.         0.         0.         0.\n",
      "  0.         0.         0.         0.         0.         0.\n",
      "  0.         0.         0.         0.         0.         0.\n",
      "  0.         0.         0.         0.         0.         0.\n",
      "  0.         0.         0.         0.         0.         0.\n",
      "  0.         0.         0.         0.         0.         0.\n",
      "  0.         0.         0.         0.         0.         0.\n",
      "  0.         0.         0.         0.         0.         0.\n",
      "  0.         0.         0.         0.         0.         0.\n",
      "  0.         0.         0.         0.         0.         0.\n",
      "  0.         0.         0.         0.         0.         0.\n",
      "  0.         0.         0.         0.         0.         0.\n",
      "  0.         0.         0.         0.         0.         0.\n",
      "  0.         0.         0.         0.         0.         0.\n",
      "  0.         0.         0.         0.         0.         0.\n",
      "  0.         0.         0.         0.         0.         0.\n",
      "  0.         0.         0.         0.         0.         0.\n",
      "  0.         0.         0.         0.         0.         0.\n",
      "  0.         0.         0.         0.         0.         0.\n",
      "  0.         0.         0.         0.         0.         0.\n",
      "  0.         0.         0.         0.         0.         0.\n",
      "  0.         0.         0.         0.         0.         0.\n",
      "  0.         0.         0.         0.         0.         0.\n",
      "  0.         0.         0.         0.         0.         0.\n",
      "  0.         0.         0.         0.         0.         0.\n",
      "  0.         0.         0.         0.         0.         0.\n",
      "  0.         0.         0.         0.         0.         0.\n",
      "  0.         0.         0.         0.         0.         0.\n",
      "  0.         0.         0.         0.         0.         0.\n",
      "  0.         0.         0.         0.         0.         0.\n",
      "  0.         0.         0.         0.         0.         0.\n",
      "  0.         0.         0.         0.         0.         0.\n",
      "  0.         0.         0.         0.         0.         0.\n",
      "  0.         0.         0.         0.         0.         0.\n",
      "  0.         0.         0.         0.         0.         0.\n",
      "  0.         0.         0.         0.         0.         0.\n",
      "  0.         0.         0.         0.         0.         0.\n",
      "  0.         0.         0.         0.         0.         0.\n",
      "  0.         0.         0.         0.         0.         0.\n",
      "  0.         0.         0.         0.         0.         0.\n",
      "  0.         0.         0.         0.         0.         0.\n",
      "  0.         0.         0.         0.         0.         0.\n",
      "  0.         0.         0.         0.         0.         0.\n",
      "  0.         0.         0.         0.         0.         0.\n",
      "  0.         0.         0.         0.         0.         0.\n",
      "  0.         0.         0.         0.         0.         0.\n",
      "  0.         0.         0.         0.         0.         0.\n",
      "  0.         0.         0.         0.         0.         0.\n",
      "  0.         0.         0.         0.         0.         0.\n",
      "  0.         0.         0.         0.         0.         0.\n",
      "  0.         0.         0.         0.         0.         0.\n",
      "  0.         0.         0.         0.         0.         0.\n",
      "  0.         0.         0.         0.         0.         0.\n",
      "  0.         0.         0.         0.         0.         0.\n",
      "  0.         0.         0.         0.         0.         0.\n",
      "  0.         0.         0.         0.         0.         0.\n",
      "  0.         0.         0.         0.         0.         0.\n",
      "  0.         0.         0.         0.         0.         0.\n",
      "  0.         0.         0.         0.        ]]\n",
      "Class predicted : helicopter\n"
     ]
    },
    {
     "data": {
      "image/png": "[encoded data removed]",
      "text/plain": [
       "<Figure size 640x480 with 1 Axes>"
      ]
     },
     "metadata": {},
     "output_type": "display_data"
    }
   ],
   "source": [
    "### TO RUN\n",
    "cls_index = [\"helicopter\", 0]\n",
    "myds.display(cls_index)\n",
    "thisfv = myds.__getitem__(cls_index).reshape(-1)\n",
    "\n",
    "# this artefact is necessary because the 'predict' function expects a matrix_like input.\n",
    "mat = np.zeros((2, len(thisfv)))\n",
    "mat[0] = thisfv\n",
    "print(mat)\n",
    "prediction = model.predict(mat)\n",
    "print(\"Class predicted :\", prediction[0])\n",
    "\n",
    "proba = model.predict_proba(mat)\n",
    "plt.figure()\n",
    "plt.bar(classnames, proba[0])\n",
    "plt.title(\"Probability of each class\")\n",
    "plt.show()\n",
    "model_knn = model"
   ]
  },
  {
   "cell_type": "markdown",
   "metadata": {},
   "source": [
    "**Question**:\n",
    "When the classifier miss-predicts, how distributed is the probability vector? Is it good news? How can we exploit that probability distribution for the prediction?"
   ]
  },
  {
   "cell_type": "code",
   "execution_count": 56,
   "metadata": {},
   "outputs": [],
   "source": [
    "### TO COMPLETE\n",
    "# Answer the question above"
   ]
  },
  {
   "cell_type": "markdown",
   "metadata": {},
   "source": [
    "<font size=6 color=#009999> 3.2. Memory </font> <br>\n",
    "\n",
    "No matter if the predictions are one class only or probability vectors, as it is natural that consecutive feature vectors belong to the same class if the sound type changes slowlier than the duration of a feature vector, it can be helpful to link consecutive predictions and see how similar they are to either strengthen or decrease our confidence in the current guess. <br>\n",
    "\n",
    "Here, we will compare the predictions made on consecutive feature vectors belonging to the same 5s-long sound. \n",
    "Run the following code with different ``class_id``'s and different ``num``."
   ]
  },
  {
   "cell_type": "code",
   "execution_count": null,
   "metadata": {},
   "outputs": [],
   "source": [
    "### TO RUN\n",
    "num = 0  # 0 (default), 1, ..., 39\n",
    "\n",
    "sound = dataset[\"birds\", num]\n",
    "audio = AudioUtil.open(sound)\n",
    "audio = AudioUtil.resample(audio, 11025)\n",
    "AudioUtil.play(audio)\n",
    "\n",
    "\"Bar charts for each window\"\n",
    "n_win = 5\n",
    "probs = np.zeros((n_win, len(classnames)))\n",
    "for window in range(n_win):\n",
    "    sub_aud = (audio[0][window * 11025 :], audio[1])\n",
    "    sub_aud = AudioUtil.pad_trunc(sub_aud, 950)\n",
    "    sgram = AudioUtil.melspectrogram(sub_aud, Nmel=20)\n",
    "    ncol = int(1000 * 11025 / (1e3 * 512))\n",
    "    sgram = sgram[:, :ncol]\n",
    "    fv = sgram.reshape(-1)\n",
    "\n",
    "    ### TO COMPLETE - Eventually normalize and reduce feature vector dimensionality\n",
    "\n",
    "    probs[window, :] = model_knn.predict_proba([fv])[0]\n",
    "\n",
    "\"Mean bar chart\"\n",
    "plt.figure()\n",
    "for window in range(n_win):\n",
    "    plt.bar(\n",
    "        np.arange(len(classnames)) * 2 * n_win + window,\n",
    "        probs[window, :],\n",
    "        alpha=0.9,\n",
    "        label=f\"Window {window}\",\n",
    "    )\n",
    "plt.legend()\n",
    "plt.gca().set_xticks(np.arange(len(classnames)) * 2 * n_win + 2)\n",
    "plt.gca().set_xticklabels(classnames)\n",
    "plt.show()\n",
    "\n",
    "plt.figure()\n",
    "plt.bar(np.arange(len(classnames)), np.mean(probs, axis=0))\n",
    "plt.gca().set_xticks(np.arange(len(classnames)))\n",
    "plt.gca().set_xticklabels(classnames)\n",
    "plt.show()"
   ]
  },
  {
   "cell_type": "markdown",
   "metadata": {},
   "source": [
    "### Question:\n",
    "Are the bar plots similar between the 5 windows of the same 5s-long sound? With the default sound, how often does the right class win?"
   ]
  },
  {
   "cell_type": "code",
   "execution_count": null,
   "metadata": {},
   "outputs": [],
   "source": [
    "### TO COMPLETE\n",
    "# Answer the question above"
   ]
  },
  {
   "cell_type": "markdown",
   "metadata": {},
   "source": [
    "If it is relevant to combine $N$ consecutive feature vectors, there are many ways to output a prediction from it:\n",
    "- **Naive**: select the class that has the highest probability among all the considered feature vectors.\n",
    "- **Majority voting**: simply select the class that appears most often as the maximum probability of a feature vector.\n",
    "- **Average the feature representation**: compute the average of all feature vectors and classify from this average.\n",
    "- **Maximum Likelihood**: take a probabilistic approach and consider selecting class $i$ as\n",
    "    $$\n",
    "        \\text{argmax}_i~ \\log \\bigg(\\prod_{n=0}^{N-1} P(y[n]=i) \\bigg)\n",
    "        = \\text{argmax}_i~ \\sum_{n=0}^{N-1} \\log P(y[n]=i)\n",
    "    $$\n",
    "    with $y[n]$ the model prediction for the feature vector $n$.\n",
    "\n",
    "It will be part of your work to decide how you want to exploit the time information in your predictions."
   ]
  },
  {
   "cell_type": "markdown",
   "metadata": {},
   "source": [
    "Now you have all the necessary material to test a new classification model and make some objective analysis of its performances. <br>\n",
    "Follow the instructions on Moodle [written here](https://moodle.uclouvain.be/mod/assign/view.php?id=204607) to see what is expected in your ``fifth report (R5)``. <br>\n",
    "A lot of other classification models are already implemented by SKlearn, check the [SKlearn API](https://scikit-learn.org/stable/supervised_learning.html#supervised-learning). Don't hesitate to read some opinions and discussions on the forums or even articles to help you in the model choice. The most motivated of you are even allowed to give a try to more than one additional model, it is time smartly invested for the upcoming weeks of this project! Although we expect only one characterization in the ``R5``.\n",
    "\n",
    "Also, don't hesitate to get information from the Internet to learn how people use to deal with sound classification. We mention for example this idea of transfer learning that could be interesting for you in the second semester: https://www.youtube.com/watch?v=uCGROOUO_wY&t=1s "
   ]
  }
 ],
 "metadata": {
  "kernelspec": {
   "display_name": "Python 3 (ipykernel)",
   "language": "python",
   "name": "python3"
  },
  "language_info": {
   "codemirror_mode": {
    "name": "ipython",
    "version": 3
   },
   "file_extension": ".py",
   "mimetype": "text/x-python",
   "name": "python",
   "nbconvert_exporter": "python",
   "pygments_lexer": "ipython3",
   "version": "3.9.18"
  },
  "vscode": {
   "interpreter": {
    "hash": "46df200377d403be22c796785365123e6a374b5da08e8292e6b2afda659c5a28"
   }
  }
 },
 "nbformat": 4,
 "nbformat_minor": 4
}
